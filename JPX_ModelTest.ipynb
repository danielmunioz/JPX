{
  "nbformat": 4,
  "nbformat_minor": 0,
  "metadata": {
    "colab": {
      "name": "JPX_ModelTest.ipynb",
      "provenance": [],
      "collapsed_sections": []
    },
    "kernelspec": {
      "name": "python3",
      "display_name": "Python 3"
    },
    "language_info": {
      "name": "python"
    }
  },
  "cells": [
    {
      "cell_type": "code",
      "source": [
        "!mkdir /root/.kaggle\n",
        "!mv kaggle.json /root/.kaggle\n",
        "\n",
        "!rm -r sample_data\n",
        "!kaggle competitions download -c jpx-tokyo-stock-exchange-prediction\n",
        "!unzip ./jpx-tokyo-stock-exchange-prediction.zip -d jpx-tokyo-stock-exchange-prediction"
      ],
      "metadata": {
        "id": "GHRbYCxEWZIO",
        "colab": {
          "base_uri": "https://localhost:8080/"
        },
        "outputId": "7ac82504-86ad-4d39-ec74-20349762e87a"
      },
      "execution_count": 2,
      "outputs": [
        {
          "output_type": "stream",
          "name": "stdout",
          "text": [
            "Warning: Your Kaggle API key is readable by other users on this system! To fix this, you can run 'chmod 600 /root/.kaggle/kaggle.json'\n",
            "Downloading jpx-tokyo-stock-exchange-prediction.zip to /content\n",
            " 96% 226M/237M [00:02<00:00, 116MB/s] \n",
            "100% 237M/237M [00:02<00:00, 113MB/s]\n",
            "Archive:  ./jpx-tokyo-stock-exchange-prediction.zip\n",
            "  inflating: jpx-tokyo-stock-exchange-prediction/data_specifications/options_spec.csv  \n",
            "  inflating: jpx-tokyo-stock-exchange-prediction/data_specifications/stock_fin_spec.csv  \n",
            "  inflating: jpx-tokyo-stock-exchange-prediction/data_specifications/stock_list_spec.csv  \n",
            "  inflating: jpx-tokyo-stock-exchange-prediction/data_specifications/stock_price_spec.csv  \n",
            "  inflating: jpx-tokyo-stock-exchange-prediction/data_specifications/trades_spec.csv  \n",
            "  inflating: jpx-tokyo-stock-exchange-prediction/example_test_files/financials.csv  \n",
            "  inflating: jpx-tokyo-stock-exchange-prediction/example_test_files/options.csv  \n",
            "  inflating: jpx-tokyo-stock-exchange-prediction/example_test_files/sample_submission.csv  \n",
            "  inflating: jpx-tokyo-stock-exchange-prediction/example_test_files/secondary_stock_prices.csv  \n",
            "  inflating: jpx-tokyo-stock-exchange-prediction/example_test_files/stock_prices.csv  \n",
            "  inflating: jpx-tokyo-stock-exchange-prediction/example_test_files/trades.csv  \n",
            "  inflating: jpx-tokyo-stock-exchange-prediction/jpx_tokyo_market_prediction/__init__.py  \n",
            "  inflating: jpx-tokyo-stock-exchange-prediction/jpx_tokyo_market_prediction/competition.cpython-37m-x86_64-linux-gnu.so  \n",
            "  inflating: jpx-tokyo-stock-exchange-prediction/stock_list.csv  \n",
            "  inflating: jpx-tokyo-stock-exchange-prediction/supplemental_files/financials.csv  \n",
            "  inflating: jpx-tokyo-stock-exchange-prediction/supplemental_files/options.csv  \n",
            "  inflating: jpx-tokyo-stock-exchange-prediction/supplemental_files/secondary_stock_prices.csv  \n",
            "  inflating: jpx-tokyo-stock-exchange-prediction/supplemental_files/stock_prices.csv  \n",
            "  inflating: jpx-tokyo-stock-exchange-prediction/supplemental_files/trades.csv  \n",
            "  inflating: jpx-tokyo-stock-exchange-prediction/train_files/financials.csv  \n",
            "  inflating: jpx-tokyo-stock-exchange-prediction/train_files/options.csv  \n",
            "  inflating: jpx-tokyo-stock-exchange-prediction/train_files/secondary_stock_prices.csv  \n",
            "  inflating: jpx-tokyo-stock-exchange-prediction/train_files/stock_prices.csv  \n",
            "  inflating: jpx-tokyo-stock-exchange-prediction/train_files/trades.csv  \n"
          ]
        }
      ]
    },
    {
      "cell_type": "code",
      "source": [
        "import torch\n",
        "import numpy as np\n",
        "import pandas as pd\n",
        "import matplotlib.pyplot as plt\n",
        "\n",
        "from torch import nn\n",
        "from torch.utils.data import Dataset, DataLoader\n",
        "import torch.nn.functional as F"
      ],
      "metadata": {
        "id": "5rAq4kJLep0K"
      },
      "execution_count": 3,
      "outputs": []
    },
    {
      "cell_type": "code",
      "source": [
        "class TSDataset(Dataset):\n",
        "  def __init__(self, df, seq_len=128, padding_token=0, vec_dates=True, normalize=True):\n",
        "    self.vec_dates = vec_dates\n",
        "    \n",
        "    self.df = df\n",
        "    self.indices = []\n",
        "    self.seq_len = seq_len\n",
        "    self.normalize = normalize\n",
        "    self.padding_token = padding_token\n",
        "    \n",
        "    #Creating indices\n",
        "    start = 0\n",
        "    for _ in range(-(len(self.df) // -self.seq_len)):\n",
        "      self.indices.append((start, start+self.seq_len))\n",
        "      start+=self.seq_len\n",
        "    \n",
        "    #fixing non-perfect intervals, --in place\n",
        "    idx = 0\n",
        "    while idx<len(self.indices):\n",
        "      start, end = self.indices[idx]\n",
        "      intervals = self.df[start:end]['SecuritiesCode'].value_counts(sort=False).values\n",
        "      if len(intervals) != 1:\n",
        "        self.indices = self.indices[:idx] + [(start, start+intervals[0]), (start+intervals[0], end)] + self.indices[idx+1:]\n",
        "        idx+=1\n",
        "      idx+=1\n",
        "  \n",
        "  def __len__(self):\n",
        "    return len(self.indices)\n",
        "  \n",
        "  def __getitem__(self, idx):\n",
        "    start, end = self.indices[idx]\n",
        "    seq_df = self.df[start:end]\n",
        "    \n",
        "    target = (seq_df['Target'].values[-1])\n",
        "\n",
        "    sequence = np.expand_dims(seq_df['Close'].values, 1)\n",
        "    if self.normalize:    #Normalizing\n",
        "      sequence = (sequence - sequence.min())/(sequence.max() - sequence.min())\n",
        "    \n",
        "    if sequence.shape[0] != self.seq_len:    #Padding\n",
        "     sequence = np.pad(sequence, pad_width=[(self.seq_len-sequence.shape[0], 0), (0, 0)], constant_values=self.padding_token, mode='constant')\n",
        "\n",
        "    #careful here padding_mask shape shouldn't be the same as sequence's, it works now bc we're using only one feature\n",
        "    padding_mask = (sequence == self.padding_token)\n",
        "    if self.vec_dates:\n",
        "      date_vec = np.concatenate([np.expand_dims(seq_df['Date'].dt.year.values, 1), \n",
        "                                 np.expand_dims(seq_df['Date'].dt.month.values, 1), \n",
        "                                 np.expand_dims(seq_df['Date'].dt.day.values, 1)], \n",
        "                                axis=1)\n",
        "      date_vec = np.pad(date_vec, pad_width=[(self.seq_len-date_vec.shape[0], 0), (0, 0)], constant_values=self.padding_token, mode='constant')\n",
        "      \n",
        "      return {'sequence':sequence,\n",
        "              'date':date_vec,\n",
        "              'mask':padding_mask,\n",
        "              'target':target}\n",
        "    else:\n",
        "      \n",
        "      return {'sequence':sequence,\n",
        "              'mask':padding_mask,\n",
        "              'target':target}"
      ],
      "metadata": {
        "id": "jrgh8BkAdvzY"
      },
      "execution_count": 4,
      "outputs": []
    },
    {
      "cell_type": "code",
      "source": [
        "class time2vec(nn.Module):\n",
        "  def __init__(self, in_features, out_features):\n",
        "    super().__init__()\n",
        "    self.w_linear = nn.Parameter(data=torch.rand(in_features, 1))\n",
        "    self.b_linear = nn.Parameter(data=torch.rand(1))\n",
        "    self.w_function = nn.Parameter(data=torch.rand(in_features, out_features-1))\n",
        "    self.b_function = nn.Parameter(data=torch.rand(out_features-1))\n",
        "\n",
        "    #maybe a bit more straightforward\n",
        "    #self.linear_params = nn.Linear(in_features, 1, bias=True)\n",
        "    #self.function_params = nn.Linear(in_features, out_features-1, bias=True)\n",
        "\n",
        "    #initialize params?\n",
        "    #nn.init.kaiming_normal_(self.w_linear)\n",
        "    #nn.init.kaiming_normal_(self.b_linear)\n",
        "    #nn.init.kaiming_normal_(self.w_function)\n",
        "    #nn.init.kaiming_normal_(self.b_function)\n",
        "\n",
        "  def forward(self, x):\n",
        "    linear_out = torch.matmul(x, self.w_linear)+self.b_linear\n",
        "    func_out = torch.sin(torch.matmul(x, self.w_function)+self.b_function)\n",
        "    return torch.concat((linear_out, func_out), dim=-1)"
      ],
      "metadata": {
        "id": "YtoKQLCyJSC4"
      },
      "execution_count": 5,
      "outputs": []
    },
    {
      "cell_type": "code",
      "source": [
        "class TSTransformer(nn.Module):\n",
        "  def __init__(self, in_features, time_features=7, mlp_dim=1024, enc_layers=2, enc_heads=2, date_vec=True):\n",
        "    super().__init__()\n",
        "    self.date_vec = date_vec\n",
        "    if date_vec:\n",
        "      self.time2vec = time2vec(3, time_features)\n",
        "    else:\n",
        "      self.time2vec = time2vec(in_features, time_features)\n",
        "    self.encoder_layer = nn.TransformerEncoderLayer(d_model=in_features+time_features, nhead=enc_heads, \n",
        "                                                    dropout=0, activation=F.gelu, batch_first=True, \n",
        "                                                    norm_first=True)\n",
        "    self.encoder = nn.TransformerEncoder(self.encoder_layer, num_layers=enc_layers)\n",
        "\n",
        "    self.mlp = nn.Linear(in_features+time_features, mlp_dim)\n",
        "    self.regressor = nn.Linear(mlp_dim, 1)\n",
        "\n",
        "  def forward(self, in_forward):\n",
        "    if self.date_vec:\n",
        "      time_embeddings = self.time2vec(in_forward['date'].float())\n",
        "    else:\n",
        "      time_embeddings = self.time2vec(in_forward['sequence'].float())\n",
        "    x = torch.concat((in_forward['sequence'].float(), time_embeddings), dim=-1)\n",
        "    x = self.encoder(src=x, src_key_padding_mask=in_forward['mask'].squeeze(-1).float())\n",
        "\n",
        "    x = F.relu(self.mlp(x))\n",
        "    x = self.regressor(x)\n",
        "\n",
        "    return x[:, -1, :] #returning only last seq element"
      ],
      "metadata": {
        "id": "hEAvaGbUJVZw"
      },
      "execution_count": 6,
      "outputs": []
    },
    {
      "cell_type": "code",
      "source": [
        "seq_len = 128\n",
        "\n",
        "padding_token = 0.0\n",
        "missing_token = -1.0\n",
        "\n",
        "\n",
        "dframe = pd.read_csv('jpx-tokyo-stock-exchange-prediction/train_files/stock_prices.csv', parse_dates=['Date'])\n",
        "\n",
        "stock_list = dframe.SecuritiesCode.unique()\n",
        "dframe_1 = dframe.drop(['Open', 'High', 'Low', 'Volume', 'RowId', 'AdjustmentFactor', 'ExpectedDividend', 'SupervisionFlag'], axis=1)\n",
        "dframe_1 = dframe_1[~dframe_1['Close'].isnull()] #Getting rid of null values for this experiment\n",
        "dframe_1 = dframe_1.sort_values(['SecuritiesCode', 'Date'], ascending=[True, True]).reset_index(drop=True)"
      ],
      "metadata": {
        "id": "WGnujAZM0RNZ"
      },
      "execution_count": 7,
      "outputs": []
    },
    {
      "cell_type": "code",
      "source": [
        "dset = TSDataset(dframe_1, seq_len=128, vec_dates=False, normalize=True)\n",
        "dloader = DataLoader(dset, batch_size=128, shuffle=False, num_workers=1)\n",
        "\n",
        "train_batch = next(iter(dloader))\n",
        "target = train_batch.pop('target')\n",
        "\n",
        "#train_batch['sequence'].shape, train_batch['date'].shape, train_batch['mask'].shape, target.shape"
      ],
      "metadata": {
        "id": "Sypud6WYSVtY"
      },
      "execution_count": 8,
      "outputs": []
    },
    {
      "cell_type": "code",
      "source": [
        "####Overfitting a single batch ----On vector dates\n",
        "\n",
        "\n",
        "#consider another criterion\n",
        "#consider modifying model params\n",
        "#May be a good idea to normalize the data -------done\n",
        "#consider encoding the vector dates instead of the sequence ---------done\n",
        "model = TSTransformer(in_features=1, time_features=7, date_vec=False)\n",
        "\n",
        "crit = nn.MSELoss()\n",
        "optim = torch.optim.Adam(model.parameters(), lr = 1e-5)\n",
        "\n",
        "total_loss = []\n",
        "for epoch in range(40):\n",
        "  optim.zero_grad()\n",
        "  \n",
        "  out = model(train_batch)\n",
        "  loss = crit(out.squeeze(-1), target.float())\n",
        "  loss.backward()\n",
        "  optim.step()\n",
        "  total_loss.append(loss.item())\n",
        "  print(loss)"
      ],
      "metadata": {
        "colab": {
          "base_uri": "https://localhost:8080/"
        },
        "id": "U0cKwsFUDevl",
        "outputId": "4d3e080e-7cc9-4311-e0b3-f37aba841c3a"
      },
      "execution_count": 14,
      "outputs": [
        {
          "output_type": "stream",
          "name": "stdout",
          "text": [
            "tensor(0.0347, grad_fn=<MseLossBackward0>)\n",
            "tensor(0.0316, grad_fn=<MseLossBackward0>)\n",
            "tensor(0.0286, grad_fn=<MseLossBackward0>)\n",
            "tensor(0.0258, grad_fn=<MseLossBackward0>)\n",
            "tensor(0.0230, grad_fn=<MseLossBackward0>)\n",
            "tensor(0.0205, grad_fn=<MseLossBackward0>)\n",
            "tensor(0.0181, grad_fn=<MseLossBackward0>)\n",
            "tensor(0.0158, grad_fn=<MseLossBackward0>)\n",
            "tensor(0.0136, grad_fn=<MseLossBackward0>)\n",
            "tensor(0.0117, grad_fn=<MseLossBackward0>)\n",
            "tensor(0.0099, grad_fn=<MseLossBackward0>)\n",
            "tensor(0.0083, grad_fn=<MseLossBackward0>)\n",
            "tensor(0.0069, grad_fn=<MseLossBackward0>)\n",
            "tensor(0.0057, grad_fn=<MseLossBackward0>)\n",
            "tensor(0.0047, grad_fn=<MseLossBackward0>)\n",
            "tensor(0.0039, grad_fn=<MseLossBackward0>)\n",
            "tensor(0.0032, grad_fn=<MseLossBackward0>)\n",
            "tensor(0.0027, grad_fn=<MseLossBackward0>)\n",
            "tensor(0.0023, grad_fn=<MseLossBackward0>)\n",
            "tensor(0.0020, grad_fn=<MseLossBackward0>)\n",
            "tensor(0.0019, grad_fn=<MseLossBackward0>)\n",
            "tensor(0.0018, grad_fn=<MseLossBackward0>)\n",
            "tensor(0.0018, grad_fn=<MseLossBackward0>)\n",
            "tensor(0.0018, grad_fn=<MseLossBackward0>)\n",
            "tensor(0.0019, grad_fn=<MseLossBackward0>)\n",
            "tensor(0.0019, grad_fn=<MseLossBackward0>)\n",
            "tensor(0.0020, grad_fn=<MseLossBackward0>)\n",
            "tensor(0.0021, grad_fn=<MseLossBackward0>)\n",
            "tensor(0.0021, grad_fn=<MseLossBackward0>)\n",
            "tensor(0.0022, grad_fn=<MseLossBackward0>)\n",
            "tensor(0.0022, grad_fn=<MseLossBackward0>)\n",
            "tensor(0.0022, grad_fn=<MseLossBackward0>)\n",
            "tensor(0.0021, grad_fn=<MseLossBackward0>)\n",
            "tensor(0.0021, grad_fn=<MseLossBackward0>)\n",
            "tensor(0.0020, grad_fn=<MseLossBackward0>)\n",
            "tensor(0.0019, grad_fn=<MseLossBackward0>)\n",
            "tensor(0.0019, grad_fn=<MseLossBackward0>)\n",
            "tensor(0.0018, grad_fn=<MseLossBackward0>)\n",
            "tensor(0.0017, grad_fn=<MseLossBackward0>)\n",
            "tensor(0.0015, grad_fn=<MseLossBackward0>)\n"
          ]
        }
      ]
    },
    {
      "cell_type": "code",
      "source": [
        "tensor_loss = torch.tensor(total_loss)\n",
        "\n",
        "plt.figure(figsize=(18, 6), dpi=80)\n",
        "plt.plot(tensor_loss.numpy())\n",
        "plt.show()"
      ],
      "metadata": {
        "id": "IfxiWlv1cyVJ",
        "colab": {
          "base_uri": "https://localhost:8080/",
          "height": 413
        },
        "outputId": "fa298cb9-5ad0-4632-e080-8a98f6870fb6"
      },
      "execution_count": 15,
      "outputs": [
        {
          "output_type": "display_data",
          "data": {
            "text/plain": [
              "<Figure size 1440x480 with 1 Axes>"
            ],
            "image/png": "[encoded data removed]"
          },
          "metadata": {
            "needs_background": "light"
          }
        }
      ]
    },
    {
      "cell_type": "code",
      "source": [
        ""
      ],
      "metadata": {
        "id": "ISu3U6CwYXkl"
      },
      "execution_count": null,
      "outputs": []
    }
  ]
}